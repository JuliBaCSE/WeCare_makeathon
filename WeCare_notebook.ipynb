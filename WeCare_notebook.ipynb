{
  "cells": [
    {
      "cell_type": "code",
      "source": [
        "# the following model is an adjusted version of the one from the link\n",
        "# https://medium.com/@sauravsharma_19630/action-recognition-with-inbuilt-pytorch-features-ac2280d1c338\n",
        "# the adjustments where made to on the one hand be able to run on Azure and on the other had to generate a smoking detecto\n",
        "# instead of a general activity recognizer"
      ],
      "outputs": [],
      "execution_count": 1,
      "metadata": {
        "id": "TEDENnLoeqCJ",
        "colab": {
          "base_uri": "https://localhost:8080/"
        },
        "outputId": "5f30a0d3-4bd8-496c-a4ba-68baacedba3d",
        "gather": {
          "logged": 1634383639168
        }
      }
    },
    {
      "cell_type": "code",
      "source": [
        "# Install dependencies for video module in pytorch to work\n",
        "# ! sudo apt-get install libavformat-dev libavdevice-dev\n",
        "# ! pip install av==6.2.0"
      ],
      "outputs": [],
      "execution_count": null,
      "metadata": {
        "jupyter": {
          "source_hidden": false,
          "outputs_hidden": false
        },
        "nteract": {
          "transient": {
            "deleting": false
          }
        }
      }
    },
    {
      "cell_type": "code",
      "source": [
        "# Import required modules ...\n",
        "\n",
        "import torch\n",
        "import torch.nn as nn\n",
        "from torch.nn import functional as F\n",
        "from torch.utils.data import random_split, DataLoader\n",
        "from torch.optim.lr_scheduler import StepLR\n",
        "import torchvision\n",
        "from torchvision import get_video_backend\n",
        "from torchvision.models.video import r3d_18 \n",
        "from torchvision import transforms\n",
        "import os\n",
        "from tqdm.auto import tqdm\n",
        "import numpy as np\n",
        "import time\n",
        "import av\n",
        "import random\n",
        "print(f\"PyAV version -- {av.__version__}\")\n",
        "\n",
        "SEED = 491\n",
        "torch.manual_seed(SEED)\n",
        "\n",
        "from collections import OrderedDict\n",
        "import warnings\n",
        "warnings.filterwarnings('ignore')\n",
        "\n",
        "#run_av_diagnostics()"
      ],
      "outputs": [
        {
          "output_type": "stream",
          "name": "stdout",
          "text": "PyAV version -- 6.2.0\n"
        }
      ],
      "execution_count": 2,
      "metadata": {
        "id": "OG1Yd8Z5lpJO",
        "colab": {
          "base_uri": "https://localhost:8080/"
        },
        "outputId": "30269721-2dad-499b-e7d1-c8846e4416f4",
        "gather": {
          "logged": 1634402412194
        }
      }
    },
    {
      "cell_type": "code",
      "source": [
        "# diagnostics for PyAV installation. For now version 6.2.0 works \n",
        "def run_av_diagnostics():\n",
        "    import av\n",
        "    av.open(\"video_data/brush_hair/Aussie_Brunette_Brushing_Hair_II_brush_hair_u_nm_np1_ba_goo_4.avi\")\n",
        "    print(get_video_backend())\n",
        "    av.logging.set_level(av.logging.ERROR)\n",
        "    if not hasattr(av.video.frame.VideoFrame, 'pict_type'):\n",
        "      print(\"Nah\")\n",
        "\n",
        "run_av_diagnostics()"
      ],
      "outputs": [
        {
          "output_type": "stream",
          "name": "stdout",
          "text": "pyav\n"
        }
      ],
      "execution_count": 2,
      "metadata": {
        "id": "8R5uv0YymAXk",
        "colab": {
          "base_uri": "https://localhost:8080/"
        },
        "outputId": "10170d43-e881-4cf7-bb3d-5bd30b8cf718",
        "gather": {
          "logged": 1634390814742
        }
      }
    },
    {
      "cell_type": "code",
      "source": [
        "# memory footprint support libraries/code\n",
        "# !ln -sf /opt/bin/nvidia-smi /usr/bin/nvidia-smi\n",
        "# !pip install gputil\n",
        "# !pip install psutil\n",
        "# !pip install humanize\n",
        "\n",
        "import psutil\n",
        "import humanize\n",
        "import os\n",
        "import GPUtil as GPU\n",
        "\n",
        "GPUs = GPU.getGPUs()\n",
        "# XXX: only one GPU on Colab and isn’t guaranteed\n",
        "gpu = GPUs[0]\n",
        "def printm():\n",
        "    process = psutil.Process(os.getpid())\n",
        "    print(\"Gen RAM Free: \" + humanize.naturalsize(psutil.virtual_memory().available), \" |     Proc size: \" + humanize.naturalsize(process.memory_info().rss))\n",
        "    print(\"GPU RAM Free: {0:.0f}MB | Used: {1:.0f}MB | Util {2:3.0f}% | Total     {3:.0f}MB\".format(gpu.memoryFree, gpu.memoryUsed, gpu.memoryUtil*100, gpu.memoryTotal))\n",
        "printm()"
      ],
      "outputs": [
        {
          "output_type": "stream",
          "name": "stdout",
          "text": "Gen RAM Free: 55.7 GB  |     Proc size: 340.6 MB\nGPU RAM Free: 12206MB | Used: 0MB | Util   0% | Total     12206MB\n"
        }
      ],
      "execution_count": 3,
      "metadata": {
        "id": "HE1Qd_RFmJEd",
        "colab": {
          "base_uri": "https://localhost:8080/"
        },
        "outputId": "ab968724-b467-4052-ed15-dad5afe2ff95",
        "gather": {
          "logged": 1634402412345
        }
      }
    },
    {
      "cell_type": "code",
      "source": [
        "#the following transformations are from this github file\n",
        "#https://raw.githubusercontent.com/pytorch/vision/6de158c473b83cf43344a0651d7c01128c7850e6/references/video_classification/transforms.py\n",
        "def crop(vid, i, j, h, w):\n",
        "    return vid[..., i:(i + h), j:(j + w)]\n",
        "\n",
        "\n",
        "def center_crop(vid, output_size):\n",
        "    h, w = vid.shape[-2:]\n",
        "    th, tw = output_size\n",
        "\n",
        "    i = int(round((h - th) / 2.))\n",
        "    j = int(round((w - tw) / 2.))\n",
        "    return crop(vid, i, j, th, tw)\n",
        "\n",
        "\n",
        "def hflip(vid):\n",
        "    return vid.flip(dims=(-1,))\n",
        "\n",
        "\n",
        "# NOTE: for those functions, which generally expect mini-batches, we keep them\n",
        "# as non-minibatch so that they are applied as if they were 4d (thus image).\n",
        "# this way, we only apply the transformation in the spatial domain\n",
        "def resize(vid, size, interpolation='bilinear'):\n",
        "    # NOTE: using bilinear interpolation because we don't work on minibatches\n",
        "    # at this level\n",
        "    scale = None\n",
        "    if isinstance(size, int):\n",
        "        scale = float(size) / min(vid.shape[-2:])\n",
        "        size = None\n",
        "    return torch.nn.functional.interpolate(\n",
        "        vid, size=size, scale_factor=scale, mode=interpolation, align_corners=False)\n",
        "\n",
        "\n",
        "def pad(vid, padding, fill=0, padding_mode=\"constant\"):\n",
        "    # NOTE: don't want to pad on temporal dimension, so let as non-batch\n",
        "    # (4d) before padding. This works as expected\n",
        "    return torch.nn.functional.pad(vid, padding, value=fill, mode=padding_mode)\n",
        "\n",
        "\n",
        "def to_normalized_float_tensor(vid):\n",
        "    return vid.permute(3, 0, 1, 2).to(torch.float32) / 255\n",
        "\n",
        "\n",
        "def normalize(vid, mean, std):\n",
        "    shape = (-1,) + (1,) * (vid.dim() - 1)\n",
        "    mean = torch.as_tensor(mean).reshape(shape)\n",
        "    std = torch.as_tensor(std).reshape(shape)\n",
        "    return (vid - mean) / std\n",
        "\n",
        "\n",
        "# Class interface\n",
        "\n",
        "class RandomCrop(object):\n",
        "    def __init__(self, size):\n",
        "        self.size = size\n",
        "\n",
        "    @staticmethod\n",
        "    def get_params(vid, output_size):\n",
        "        \"\"\"Get parameters for ``crop`` for a random crop.\n",
        "        \"\"\"\n",
        "        h, w = vid.shape[-2:]\n",
        "        th, tw = output_size\n",
        "        if w == tw and h == th:\n",
        "            return 0, 0, h, w\n",
        "        i = random.randint(0, h - th)\n",
        "        j = random.randint(0, w - tw)\n",
        "        return i, j, th, tw\n",
        "\n",
        "    def __call__(self, vid):\n",
        "        i, j, h, w = self.get_params(vid, self.size)\n",
        "        return crop(vid, i, j, h, w)\n",
        "\n",
        "\n",
        "class CenterCrop(object):\n",
        "    def __init__(self, size):\n",
        "        self.size = size\n",
        "\n",
        "    def __call__(self, vid):\n",
        "        return center_crop(vid, self.size)\n",
        "\n",
        "\n",
        "class Resize(object):\n",
        "    def __init__(self, size):\n",
        "        self.size = size\n",
        "\n",
        "    def __call__(self, vid):\n",
        "        return resize(vid, self.size)\n",
        "\n",
        "\n",
        "class ToFloatTensorInZeroOne(object):\n",
        "    def __call__(self, vid):\n",
        "        return to_normalized_float_tensor(vid)\n",
        "\n",
        "\n",
        "class Normalize(object):\n",
        "    def __init__(self, mean, std):\n",
        "        self.mean = mean\n",
        "        self.std = std\n",
        "\n",
        "    def __call__(self, vid):\n",
        "        return normalize(vid, self.mean, self.std)\n",
        "\n",
        "\n",
        "class RandomHorizontalFlip(object):\n",
        "    def __init__(self, p=0.5):\n",
        "        self.p = p\n",
        "\n",
        "    def __call__(self, vid):\n",
        "        if random.random() < self.p:\n",
        "            return hflip(vid)\n",
        "        return vid\n",
        "\n",
        "\n",
        "class Pad(object):\n",
        "    def __init__(self, padding, fill=0):\n",
        "        self.padding = padding\n",
        "        self.fill = fill\n",
        "\n",
        "    def __call__(self, vid):\n",
        "        return pad(vid, self.padding, self.fill)\n"
      ],
      "outputs": [],
      "execution_count": 4,
      "metadata": {
        "jupyter": {
          "source_hidden": false,
          "outputs_hidden": false
        },
        "nteract": {
          "transient": {
            "deleting": false
          }
        },
        "gather": {
          "logged": 1634402417854
        }
      }
    },
    {
      "cell_type": "code",
      "source": [
        "class AverageMeter(object):\n",
        "    \"\"\"\n",
        "    Computes and stores the average and current value\n",
        "    \"\"\"\n",
        "    def __init__(self):\n",
        "        self.reset()\n",
        "\n",
        "    def reset(self):\n",
        "        self.val = 0\n",
        "        self.avg = 0\n",
        "        self.sum = 0\n",
        "        self.count = 0\n",
        "\n",
        "    def update(self, val, n=1):\n",
        "        self.val = val\n",
        "        self.sum += val * n\n",
        "        self.count += n\n",
        "        self.avg = self.sum / self.count\n",
        "\n",
        "    def update_acc(self, val, n=1):\n",
        "        self.val = val/n\n",
        "        self.sum += val\n",
        "        self.count += n\n",
        "        self.avg = self.sum / self.count"
      ],
      "outputs": [],
      "execution_count": 5,
      "metadata": {
        "id": "rmia3p2SZCkS",
        "gather": {
          "logged": 1634402422028
        }
      }
    },
    {
      "cell_type": "code",
      "source": [
        "# define model using PyTorch\n",
        "class VideoRecog_Model(nn.Module):\n",
        "  def __init__(self):\n",
        "      super(VideoRecog_Model, self).__init__()\n",
        "      self.base_model = nn.Sequential(*list(r3d_18(pretrained=True).children())[:-1])\n",
        "      self.fc1 = nn.Linear(512, 250)\n",
        "      self.fc2 = nn.Linear(250, 1) \n",
        "      self.dropout = nn.Dropout2d(0.3)\n",
        "       \n",
        "\n",
        "  def forward(self, x):\n",
        "      out = self.base_model(x).squeeze(4).squeeze(3).squeeze(2) # output of base model is bs x 512 x 1 x 1 x 1\n",
        "      out = F.relu(self.fc1(out)) \n",
        "      out = self.dropout(out) \n",
        "\n",
        "      out=self.fc2(out)\n",
        "      \n",
        "      return out"
      ],
      "outputs": [],
      "execution_count": 6,
      "metadata": {
        "id": "TLv5orDEme8z",
        "gather": {
          "logged": 1634402430304
        }
      }
    },
    {
      "cell_type": "code",
      "source": [
        "def train(config, model, loader, optimizer, epoch):\n",
        "    model.train()\n",
        "    config = {}\n",
        "    config['log_interval'] = 100\n",
        "    correct = 0\n",
        "    total_loss = 0.0\n",
        "    flag = 0\n",
        "    Loss, Acc = AverageMeter(), AverageMeter()\n",
        "    start = time.time()\n",
        "    for batch_id, data in enumerate(loader):\n",
        "        data, target = data[0], data[-1]\n",
        "        \n",
        "        #reorganize dataset to only smoking or not\n",
        "        # print(\"here\")\n",
        "        target = target.numpy()\n",
        "        bs = len(target)\n",
        "        target = [1 if t == 4 else 0 for t in target]\n",
        "        target = torch.Tensor(target)\n",
        "        \n",
        "        if torch.cuda.is_available():\n",
        "           data = data.cuda()\n",
        "           target = target.cuda()\n",
        "\n",
        "        optimizer.zero_grad()\n",
        "        output = model(data)\n",
        "        #reweighting the positive examples since unbalanced pos vs. negative\n",
        "        # and trying to increase the recall -> rather false alarm than no alarm\n",
        "        pos_weight = torch.Tensor([952/226 for t in range(bs)])\n",
        "        if torch.cuda.is_available():\n",
        "            pos_weight=pos_weight.cuda()\n",
        "        crit = nn.BCEWithLogitsLoss(pos_weight=pos_weight)\n",
        "        loss = crit(output.squeeze(), target.float())\n",
        "        \n",
        "        # loss = F.nll_loss(output, target)\n",
        "        total_loss += loss.item()\n",
        "        loss.backward()\n",
        "        optimizer.step()\n",
        "\n",
        "        Loss.update(loss.item(), data.size(0))\n",
        "\n",
        "        pred = output.argmax(dim=1, keepdim=True)  # get the index of the max log-probability\n",
        "        num_corrects = pred.eq(target.view_as(pred)).sum().item()\n",
        "        correct += num_corrects\n",
        "\n",
        "        Acc.update_acc(num_corrects, data.size(0))\n",
        "\n",
        "        if flag!= 0 and batch_id%config['log_interval'] == 0:\n",
        "           print('Train Epoch: {} Batch [{}/{} ({:.0f}%)]\\tLoss: {:.6f} Accuracy: {}/{} ({:.0f})%'.format(\n",
        "                epoch, batch_id * len(data), len(loader.dataset),\n",
        "                100. * batch_id / len(loader), Loss.avg, correct, Acc.count, 100. * Acc.avg))\n",
        "        flag = 1\n",
        "\n",
        "    #total_loss /= len(loader.dataset) \n",
        "    print('Train Epoch: {} Average Loss: {:.6f} Average Accuracy: {}/{} ({:.0f})%'.format(\n",
        "         epoch, Loss.avg, correct, Acc.count, 100. * Acc.avg ))\n",
        "    print(f\"Takes {time.time() - start}\")"
      ],
      "outputs": [],
      "execution_count": 7,
      "metadata": {
        "id": "AOULzxhDmzZy",
        "gather": {
          "logged": 1634402433706
        }
      }
    },
    {
      "cell_type": "code",
      "source": [
        "def test(config, model, loader, text='Validation',show_case=False):\n",
        "    model.eval()\n",
        "    correct = 0\n",
        "    total_loss = 0.0\n",
        "    Loss, Acc = AverageMeter(), AverageMeter()\n",
        "    with torch.no_grad():\n",
        "         for batch_id, data in enumerate(loader):\n",
        "             data, target = data[0], data[-1]\n",
        "             target = target.numpy()\n",
        "\n",
        "             #labeling for smokeing and non smokeing\n",
        "             #since we have 5 different activity types in binary_folder we have to change the lables as following:\n",
        "             #brush_hair 0 -> 0\n",
        "             #catch 1 -> 0\n",
        "             #draw_sword 2 -> 0\n",
        "             #eat 3 -> 0\n",
        "             #smoke 4 -> 1\n",
        "\n",
        "             target = [1 if t == 4 else 0 for t in target]\n",
        "             target = torch.Tensor(target)\n",
        "             \n",
        "\n",
        "             if torch.cuda.is_available():\n",
        "                data = data.cuda()\n",
        "                target = target.cuda()\n",
        "\n",
        "\n",
        "             output = model(data)\n",
        "             if show_case:\n",
        "                 print(nn.Sigmoid(output))\n",
        "            \n",
        "             crit = nn.BCEWithLogitsLoss()\n",
        "             loss =crit(output.squeeze(), target.float())\n",
        "\n",
        "             total_loss += loss.item()\n",
        "\n",
        "             Loss.update(loss.item(), data.size(0))\n",
        "\n",
        "             pred = output.argmax(dim=1, keepdim=True)  # get the index of the max log-probability\n",
        "             num_corrects = pred.eq(target.view_as(pred)).sum().item()\n",
        "             correct += num_corrects\n",
        "\n",
        "             Acc.update_acc(num_corrects, data.size(0))\n",
        "           \n",
        "    total_loss /= len(loader.dataset)\n",
        "    print(text + ' Average Loss: {:.6f} Average Accuracy: {}/{} ({:.0f})%'.format(\n",
        "         Loss.avg, correct, Acc.count , 100. * Acc.avg ))"
      ],
      "outputs": [],
      "execution_count": 8,
      "metadata": {
        "id": "Oj_n6CR4rJ_8",
        "gather": {
          "logged": 1634402437846
        }
      }
    },
    {
      "cell_type": "code",
      "source": [
        "# Datasets and Dataloaders for model training ..\n",
        "\n",
        "val_split = 0.10\n",
        "num_frames = 16 # 16\n",
        "clip_steps = 50\n",
        "num_workers = 6\n",
        "pin_memory = True\n",
        "train_tfms = torchvision.transforms.Compose([\n",
        "                                 ToFloatTensorInZeroOne(),\n",
        "                                 Resize((128, 171)),\n",
        "                                 RandomHorizontalFlip(),\n",
        "                                 Normalize(mean=[0.43216, 0.394666, 0.37645], std=[0.22803, 0.22145, 0.216989]),\n",
        "                                 RandomCrop((112, 112))\n",
        "                               ])  \n",
        "test_tfms =  torchvision.transforms.Compose([\n",
        "                                             ToFloatTensorInZeroOne(),\n",
        "                                             Resize((128, 171)),\n",
        "                                             Normalize(mean=[0.43216, 0.394666, 0.37645], std=[0.22803, 0.22145, 0.216989]),\n",
        "                                             CenterCrop((112, 112))\n",
        "                                             ])\n",
        "hmdb51_train = torchvision.datasets.HMDB51('data/binary_folder/', 'data/test_train_splits/', num_frames,\n",
        "                                                step_between_clips = clip_steps, fold=1, train=True,\n",
        "                                                transform=train_tfms, num_workers=num_workers)\n",
        "\n",
        "\n",
        "hmdb51_test = torchvision.datasets.HMDB51('data/binary_folder/', 'data/test_train_splits/', num_frames,\n",
        "                                                step_between_clips = clip_steps, fold=1, train=False,\n",
        "                                                transform=test_tfms, num_workers=num_workers)\n",
        "      \n",
        "total_train_samples = len(hmdb51_train)\n",
        "total_val_samples = round(val_split * total_train_samples)\n",
        "\n",
        "print(f\"number of train samples {total_train_samples}\")\n",
        "print(f\"number of validation samples {total_val_samples}\")\n",
        "print(f\"number of test samples {len(hmdb51_test)}\")\n"
      ],
      "outputs": [
        {
          "output_type": "display_data",
          "data": {
            "text/plain": "  0%|          | 0/34 [00:00<?, ?it/s]",
            "application/vnd.jupyter.widget-view+json": {
              "version_major": 2,
              "version_minor": 0,
              "model_id": "36f33a062eca43f998f1443db6761eac"
            }
          },
          "metadata": {}
        },
        {
          "output_type": "display_data",
          "data": {
            "text/plain": "  0%|          | 0/34 [00:00<?, ?it/s]",
            "application/vnd.jupyter.widget-view+json": {
              "version_major": 2,
              "version_minor": 0,
              "model_id": "9b84ae10867c44d297db410cc6aa446f"
            }
          },
          "metadata": {}
        },
        {
          "output_type": "stream",
          "name": "stdout",
          "text": "number of train samples 952\nnumber of validation samples 95\nnumber of test samples 412\n"
        }
      ],
      "execution_count": 9,
      "metadata": {
        "id": "5-QY8fYGmmkt",
        "colab": {
          "base_uri": "https://localhost:8080/",
          "height": 81,
          "referenced_widgets": [
            "6f6a108714a245609c10a43201954110",
            "ba1ee2e0c9124bb5ac72feea4cd12ab3",
            "7ae0f60155fc40a68af3a3e19628d0df",
            "8a2d5aea6f704afaaa23c53a5f4199b7",
            "f01ffd82655044869c79671f3a20ed3c",
            "830329591e11423590840dae31215475",
            "4a59247376e241369f346d0fb0e6ef4f",
            "dbc63e48eac64d4283721c8a816091f5",
            "49222693bef9462da699f5e0b4de5d6a",
            "b6b0f63051f9494694507c71bf8a30d9",
            "0a82ad559b1e496db36535ffdcf7e58b",
            "3f1576d1e9624c1b9d1f66c6e9168a9f",
            "35057d9c4c0c426fba2519c25004a659",
            "0f1a264fe5dc46a0b909c7c15878e34c",
            "dc910ea7d8334cdfb4774a64d390170b",
            "056c6c56c7bf4d06a7c58e7d5b236138",
            "ff79682fa85644a4979e9feb482cf200",
            "04ecdb620fb54675ac418ddf6063a9c7",
            "b09632b03e4b4710b0f0faf6b6d5338b",
            "64716f2188b4436f9dd79fe5101e62e8",
            "98c0172fd62b483384f9fa43ffacbb4f",
            "443f8b27251a4c4eb0af365a6041b52f"
          ]
        },
        "outputId": "696821d7-6ea7-49e1-c7be-0f4823968a3b",
        "gather": {
          "logged": 1634402464630
        }
      }
    },
    {
      "cell_type": "code",
      "source": [
        "torch.cuda.is_available()"
      ],
      "outputs": [
        {
          "output_type": "execute_result",
          "execution_count": 16,
          "data": {
            "text/plain": "True"
          },
          "metadata": {}
        }
      ],
      "execution_count": 16,
      "metadata": {
        "jupyter": {
          "source_hidden": false,
          "outputs_hidden": false
        },
        "nteract": {
          "transient": {
            "deleting": false
          }
        },
        "gather": {
          "logged": 1634381535241
        }
      }
    },
    {
      "cell_type": "code",
      "source": [
        "bs = 6\n",
        "lr = 1e-3\n",
        "gamma = 0.7\n",
        "total_epochs = 4\n",
        "config = {}\n",
        "num_workers = 0\n",
        "\n",
        "kwargs = {'num_workers':num_workers, 'pin_memory':True} if torch.cuda.is_available() else {'num_workers':num_workers}\n",
        "#kwargs = {'num_workers':num_workers}\n",
        "#kwargs = {}\n",
        "\n",
        "hmdb51_train_v1, hmdb51_val_v1 = random_split(hmdb51_train, [total_train_samples - total_val_samples,\n",
        "                                                                       total_val_samples])\n",
        "\n",
        "#hmdb51_train_v1.video_clips.compute_clips(16, 1, frame_rate=30)\n",
        "#hmdb51_val_v1.video_clips.compute_clips(16, 1, frame_rate=30)\n",
        "#hmdb51_test.video_clips.compute_clips(16, 1, frame_rate=30)\n",
        "\n",
        "#train_sampler = RandomClipSampler(hmdb51_train_v1.video_clips, 5)\n",
        "#test_sampler = UniformClipSampler(hmdb51_test.video_clips, 5)\n",
        "  \n",
        "train_loader = DataLoader(hmdb51_train_v1, batch_size=bs, shuffle=True, **kwargs)\n",
        "val_loader   = DataLoader(hmdb51_val_v1, batch_size=bs, shuffle=True, **kwargs)\n",
        "test_loader  = DataLoader(hmdb51_test, batch_size=bs, shuffle=False, **kwargs)\n",
        "\n",
        "model = VideoRecog_Model()\n",
        "\n",
        "if torch.cuda.is_available():\n",
        "   model = model.cuda()\n",
        "\n",
        "optimizer = torch.optim.Adam(model.parameters(), lr=lr)\n",
        "\n",
        "scheduler = StepLR(optimizer, step_size=1, gamma=gamma)\n",
        "\n",
        "print(\"Launching Action Recognition Model training\")\n",
        "# train(config, model, train_loader, optimizer, epoch)\n",
        "for epoch in range(1, total_epochs + 1):\n",
        "    train(config, model, train_loader, optimizer, epoch)\n",
        "    test(config, model, val_loader, text=\"Validation\")\n",
        "    scheduler.step()\n",
        "\n",
        "test(config, model, test_loader, text=\"Test\")"
      ],
      "outputs": [
        {
          "output_type": "stream",
          "name": "stdout",
          "text": "Launching Action Recognition Model training\nTrain Epoch: 1 Batch [600/857 (70%)]\tLoss: 1.420198 Accuracy: 450/606 (74)%\nTrain Epoch: 1 Average Loss: 1.327465 Average Accuracy: 648/857 (76)%\nTakes 333.0490663051605\nValidation Average Loss: 0.947670 Average Accuracy: 78/95 (82)%\nTrain Epoch: 2 Batch [600/857 (70%)]\tLoss: 1.083379 Accuracy: 464/606 (77)%\nTrain Epoch: 2 Average Loss: 1.090239 Average Accuracy: 648/857 (76)%\nTakes 329.9412839412689\nValidation Average Loss: 1.087228 Average Accuracy: 78/95 (82)%\nTrain Epoch: 3 Batch [600/857 (70%)]\tLoss: 1.112954 Accuracy: 446/606 (74)%\nTrain Epoch: 3 Average Loss: 1.092549 Average Accuracy: 648/857 (76)%\nTakes 329.3133499622345\nValidation Average Loss: 0.654706 Average Accuracy: 78/95 (82)%\nTrain Epoch: 4 Batch [600/857 (70%)]\tLoss: 1.042025 Accuracy: 465/606 (77)%\nTrain Epoch: 4 Average Loss: 1.052902 Average Accuracy: 648/857 (76)%\nTakes 328.8185088634491\nValidation Average Loss: 0.679460 Average Accuracy: 78/95 (82)%\nTest Average Loss: 1.453848 Average Accuracy: 321/412 (78)%\n"
        }
      ],
      "execution_count": 11,
      "metadata": {
        "id": "BrfX3Rk0sTcR",
        "gather": {
          "logged": 1634405965907
        }
      }
    }
  ],
  "metadata": {
    "colab": {
      "name": "Action_Recognition_From_HMDB51_dataset",
      "provenance": []
    },
    "kernelspec": {
      "name": "python3",
      "language": "python",
      "display_name": "Python 3"
    },
    "accelerator": "GPU",
    "widgets": {
      "application/vnd.jupyter.widget-state+json": {
        "b6b0f63051f9494694507c71bf8a30d9": {
          "model_module": "@jupyter-widgets/controls",
          "model_name": "DescriptionStyleModel",
          "model_module_version": "1.5.0",
          "state": {
            "_view_name": "StyleView",
            "_model_name": "DescriptionStyleModel",
            "description_width": "",
            "_view_module": "@jupyter-widgets/base",
            "_model_module_version": "1.5.0",
            "_view_count": null,
            "_view_module_version": "1.2.0",
            "_model_module": "@jupyter-widgets/controls"
          }
        },
        "dc910ea7d8334cdfb4774a64d390170b": {
          "model_module": "@jupyter-widgets/controls",
          "model_name": "FloatProgressModel",
          "model_module_version": "1.5.0",
          "state": {
            "_view_module_version": "1.5.0",
            "description_tooltip": null,
            "_model_name": "FloatProgressModel",
            "_model_module": "@jupyter-widgets/controls",
            "max": 423,
            "bar_style": "",
            "_view_name": "ProgressView",
            "_view_module": "@jupyter-widgets/controls",
            "_dom_classes": [],
            "layout": "IPY_MODEL_64716f2188b4436f9dd79fe5101e62e8",
            "orientation": "horizontal",
            "value": 36,
            "style": "IPY_MODEL_b09632b03e4b4710b0f0faf6b6d5338b",
            "min": 0,
            "_view_count": null,
            "_model_module_version": "1.5.0",
            "description": ""
          }
        },
        "830329591e11423590840dae31215475": {
          "model_module": "@jupyter-widgets/controls",
          "model_name": "DescriptionStyleModel",
          "model_module_version": "1.5.0",
          "state": {
            "_view_name": "StyleView",
            "_model_name": "DescriptionStyleModel",
            "description_width": "",
            "_view_module": "@jupyter-widgets/base",
            "_model_module_version": "1.5.0",
            "_view_count": null,
            "_view_module_version": "1.2.0",
            "_model_module": "@jupyter-widgets/controls"
          }
        },
        "64716f2188b4436f9dd79fe5101e62e8": {
          "model_module": "@jupyter-widgets/base",
          "model_name": "LayoutModel",
          "model_module_version": "1.2.0",
          "state": {
            "_view_module_version": "1.2.0",
            "_model_name": "LayoutModel",
            "grid_row": null,
            "_model_module": "@jupyter-widgets/base",
            "overflow": null,
            "max_height": null,
            "display": null,
            "grid_auto_flow": null,
            "grid_template_rows": null,
            "align_self": null,
            "grid_auto_columns": null,
            "width": null,
            "grid_area": null,
            "align_items": null,
            "_view_name": "LayoutView",
            "left": null,
            "height": null,
            "_view_module": "@jupyter-widgets/base",
            "object_position": null,
            "justify_content": null,
            "bottom": null,
            "max_width": null,
            "border": null,
            "margin": null,
            "order": null,
            "grid_column": null,
            "grid_auto_rows": null,
            "padding": null,
            "grid_template_columns": null,
            "justify_items": null,
            "object_fit": null,
            "visibility": null,
            "_view_count": null,
            "flex_flow": null,
            "min_height": null,
            "top": null,
            "min_width": null,
            "flex": null,
            "_model_module_version": "1.2.0",
            "grid_template_areas": null,
            "overflow_x": null,
            "right": null,
            "overflow_y": null,
            "grid_gap": null,
            "align_content": null
          }
        },
        "49222693bef9462da699f5e0b4de5d6a": {
          "model_module": "@jupyter-widgets/base",
          "model_name": "LayoutModel",
          "model_module_version": "1.2.0",
          "state": {
            "_view_module_version": "1.2.0",
            "_model_name": "LayoutModel",
            "grid_row": null,
            "_model_module": "@jupyter-widgets/base",
            "overflow": null,
            "max_height": null,
            "display": null,
            "grid_auto_flow": null,
            "grid_template_rows": null,
            "align_self": null,
            "grid_auto_columns": null,
            "width": null,
            "grid_area": null,
            "align_items": null,
            "_view_name": "LayoutView",
            "left": null,
            "height": null,
            "_view_module": "@jupyter-widgets/base",
            "object_position": null,
            "justify_content": null,
            "bottom": null,
            "max_width": null,
            "border": null,
            "margin": null,
            "order": null,
            "grid_column": null,
            "grid_auto_rows": null,
            "padding": null,
            "grid_template_columns": null,
            "justify_items": null,
            "object_fit": null,
            "visibility": null,
            "_view_count": null,
            "flex_flow": null,
            "min_height": null,
            "top": null,
            "min_width": null,
            "flex": null,
            "_model_module_version": "1.2.0",
            "grid_template_areas": null,
            "overflow_x": null,
            "right": null,
            "overflow_y": null,
            "grid_gap": null,
            "align_content": null
          }
        },
        "98c0172fd62b483384f9fa43ffacbb4f": {
          "model_module": "@jupyter-widgets/controls",
          "model_name": "DescriptionStyleModel",
          "model_module_version": "1.5.0",
          "state": {
            "_view_name": "StyleView",
            "_model_name": "DescriptionStyleModel",
            "description_width": "",
            "_view_module": "@jupyter-widgets/base",
            "_model_module_version": "1.5.0",
            "_view_count": null,
            "_view_module_version": "1.2.0",
            "_model_module": "@jupyter-widgets/controls"
          }
        },
        "b09632b03e4b4710b0f0faf6b6d5338b": {
          "model_module": "@jupyter-widgets/controls",
          "model_name": "ProgressStyleModel",
          "model_module_version": "1.5.0",
          "state": {
            "_view_module_version": "1.2.0",
            "_model_name": "ProgressStyleModel",
            "_model_module": "@jupyter-widgets/controls",
            "description_width": "",
            "_view_name": "StyleView",
            "_view_module": "@jupyter-widgets/base",
            "_view_count": null,
            "bar_color": null,
            "_model_module_version": "1.5.0"
          }
        },
        "f01ffd82655044869c79671f3a20ed3c": {
          "model_module": "@jupyter-widgets/controls",
          "model_name": "HTMLModel",
          "model_module_version": "1.5.0",
          "state": {
            "_view_module_version": "1.5.0",
            "description_tooltip": null,
            "_model_name": "HTMLModel",
            "_model_module": "@jupyter-widgets/controls",
            "_view_name": "HTMLView",
            "_view_module": "@jupyter-widgets/controls",
            "_dom_classes": [],
            "layout": "IPY_MODEL_0a82ad559b1e496db36535ffdcf7e58b",
            "value": " 423/423 [01:54&lt;00:00,  4.49it/s]",
            "style": "IPY_MODEL_b6b0f63051f9494694507c71bf8a30d9",
            "placeholder": "​",
            "_view_count": null,
            "_model_module_version": "1.5.0",
            "description": ""
          }
        },
        "dbc63e48eac64d4283721c8a816091f5": {
          "model_module": "@jupyter-widgets/controls",
          "model_name": "ProgressStyleModel",
          "model_module_version": "1.5.0",
          "state": {
            "_view_module_version": "1.2.0",
            "_model_name": "ProgressStyleModel",
            "_model_module": "@jupyter-widgets/controls",
            "description_width": "",
            "_view_name": "StyleView",
            "_view_module": "@jupyter-widgets/base",
            "_view_count": null,
            "bar_color": null,
            "_model_module_version": "1.5.0"
          }
        },
        "443f8b27251a4c4eb0af365a6041b52f": {
          "model_module": "@jupyter-widgets/base",
          "model_name": "LayoutModel",
          "model_module_version": "1.2.0",
          "state": {
            "_view_module_version": "1.2.0",
            "_model_name": "LayoutModel",
            "grid_row": null,
            "_model_module": "@jupyter-widgets/base",
            "overflow": null,
            "max_height": null,
            "display": null,
            "grid_auto_flow": null,
            "grid_template_rows": null,
            "align_self": null,
            "grid_auto_columns": null,
            "width": null,
            "grid_area": null,
            "align_items": null,
            "_view_name": "LayoutView",
            "left": null,
            "height": null,
            "_view_module": "@jupyter-widgets/base",
            "object_position": null,
            "justify_content": null,
            "bottom": null,
            "max_width": null,
            "border": null,
            "margin": null,
            "order": null,
            "grid_column": null,
            "grid_auto_rows": null,
            "padding": null,
            "grid_template_columns": null,
            "justify_items": null,
            "object_fit": null,
            "visibility": null,
            "_view_count": null,
            "flex_flow": null,
            "min_height": null,
            "top": null,
            "min_width": null,
            "flex": null,
            "_model_module_version": "1.2.0",
            "grid_template_areas": null,
            "overflow_x": null,
            "right": null,
            "overflow_y": null,
            "grid_gap": null,
            "align_content": null
          }
        },
        "3f1576d1e9624c1b9d1f66c6e9168a9f": {
          "model_module": "@jupyter-widgets/controls",
          "model_name": "HBoxModel",
          "model_module_version": "1.5.0",
          "state": {
            "_view_module_version": "1.5.0",
            "_model_name": "HBoxModel",
            "_model_module": "@jupyter-widgets/controls",
            "_view_name": "HBoxView",
            "_view_module": "@jupyter-widgets/controls",
            "_dom_classes": [],
            "layout": "IPY_MODEL_35057d9c4c0c426fba2519c25004a659",
            "_view_count": null,
            "_model_module_version": "1.5.0",
            "box_style": "",
            "children": [
              "IPY_MODEL_0f1a264fe5dc46a0b909c7c15878e34c",
              "IPY_MODEL_dc910ea7d8334cdfb4774a64d390170b",
              "IPY_MODEL_056c6c56c7bf4d06a7c58e7d5b236138"
            ]
          }
        },
        "04ecdb620fb54675ac418ddf6063a9c7": {
          "model_module": "@jupyter-widgets/base",
          "model_name": "LayoutModel",
          "model_module_version": "1.2.0",
          "state": {
            "_view_module_version": "1.2.0",
            "_model_name": "LayoutModel",
            "grid_row": null,
            "_model_module": "@jupyter-widgets/base",
            "overflow": null,
            "max_height": null,
            "display": null,
            "grid_auto_flow": null,
            "grid_template_rows": null,
            "align_self": null,
            "grid_auto_columns": null,
            "width": null,
            "grid_area": null,
            "align_items": null,
            "_view_name": "LayoutView",
            "left": null,
            "height": null,
            "_view_module": "@jupyter-widgets/base",
            "object_position": null,
            "justify_content": null,
            "bottom": null,
            "max_width": null,
            "border": null,
            "margin": null,
            "order": null,
            "grid_column": null,
            "grid_auto_rows": null,
            "padding": null,
            "grid_template_columns": null,
            "justify_items": null,
            "object_fit": null,
            "visibility": null,
            "_view_count": null,
            "flex_flow": null,
            "min_height": null,
            "top": null,
            "min_width": null,
            "flex": null,
            "_model_module_version": "1.2.0",
            "grid_template_areas": null,
            "overflow_x": null,
            "right": null,
            "overflow_y": null,
            "grid_gap": null,
            "align_content": null
          }
        },
        "ba1ee2e0c9124bb5ac72feea4cd12ab3": {
          "model_module": "@jupyter-widgets/base",
          "model_name": "LayoutModel",
          "model_module_version": "1.2.0",
          "state": {
            "_view_module_version": "1.2.0",
            "_model_name": "LayoutModel",
            "grid_row": null,
            "_model_module": "@jupyter-widgets/base",
            "overflow": null,
            "max_height": null,
            "display": null,
            "grid_auto_flow": null,
            "grid_template_rows": null,
            "align_self": null,
            "grid_auto_columns": null,
            "width": null,
            "grid_area": null,
            "align_items": null,
            "_view_name": "LayoutView",
            "left": null,
            "height": null,
            "_view_module": "@jupyter-widgets/base",
            "object_position": null,
            "justify_content": null,
            "bottom": null,
            "max_width": null,
            "border": null,
            "margin": null,
            "order": null,
            "grid_column": null,
            "grid_auto_rows": null,
            "padding": null,
            "grid_template_columns": null,
            "justify_items": null,
            "object_fit": null,
            "visibility": null,
            "_view_count": null,
            "flex_flow": null,
            "min_height": null,
            "top": null,
            "min_width": null,
            "flex": null,
            "_model_module_version": "1.2.0",
            "grid_template_areas": null,
            "overflow_x": null,
            "right": null,
            "overflow_y": null,
            "grid_gap": null,
            "align_content": null
          }
        },
        "ff79682fa85644a4979e9feb482cf200": {
          "model_module": "@jupyter-widgets/controls",
          "model_name": "DescriptionStyleModel",
          "model_module_version": "1.5.0",
          "state": {
            "_view_name": "StyleView",
            "_model_name": "DescriptionStyleModel",
            "description_width": "",
            "_view_module": "@jupyter-widgets/base",
            "_model_module_version": "1.5.0",
            "_view_count": null,
            "_view_module_version": "1.2.0",
            "_model_module": "@jupyter-widgets/controls"
          }
        },
        "8a2d5aea6f704afaaa23c53a5f4199b7": {
          "model_module": "@jupyter-widgets/controls",
          "model_name": "FloatProgressModel",
          "model_module_version": "1.5.0",
          "state": {
            "_view_module_version": "1.5.0",
            "description_tooltip": null,
            "_model_name": "FloatProgressModel",
            "_model_module": "@jupyter-widgets/controls",
            "max": 423,
            "bar_style": "success",
            "_view_name": "ProgressView",
            "_view_module": "@jupyter-widgets/controls",
            "_dom_classes": [],
            "layout": "IPY_MODEL_49222693bef9462da699f5e0b4de5d6a",
            "orientation": "horizontal",
            "value": 423,
            "style": "IPY_MODEL_dbc63e48eac64d4283721c8a816091f5",
            "min": 0,
            "_view_count": null,
            "_model_module_version": "1.5.0",
            "description": ""
          }
        },
        "7ae0f60155fc40a68af3a3e19628d0df": {
          "model_module": "@jupyter-widgets/controls",
          "model_name": "HTMLModel",
          "model_module_version": "1.5.0",
          "state": {
            "_view_module_version": "1.5.0",
            "description_tooltip": null,
            "_model_name": "HTMLModel",
            "_model_module": "@jupyter-widgets/controls",
            "_view_name": "HTMLView",
            "_view_module": "@jupyter-widgets/controls",
            "_dom_classes": [],
            "layout": "IPY_MODEL_4a59247376e241369f346d0fb0e6ef4f",
            "value": "100%",
            "style": "IPY_MODEL_830329591e11423590840dae31215475",
            "placeholder": "​",
            "_view_count": null,
            "_model_module_version": "1.5.0",
            "description": ""
          }
        },
        "0a82ad559b1e496db36535ffdcf7e58b": {
          "model_module": "@jupyter-widgets/base",
          "model_name": "LayoutModel",
          "model_module_version": "1.2.0",
          "state": {
            "_view_module_version": "1.2.0",
            "_model_name": "LayoutModel",
            "grid_row": null,
            "_model_module": "@jupyter-widgets/base",
            "overflow": null,
            "max_height": null,
            "display": null,
            "grid_auto_flow": null,
            "grid_template_rows": null,
            "align_self": null,
            "grid_auto_columns": null,
            "width": null,
            "grid_area": null,
            "align_items": null,
            "_view_name": "LayoutView",
            "left": null,
            "height": null,
            "_view_module": "@jupyter-widgets/base",
            "object_position": null,
            "justify_content": null,
            "bottom": null,
            "max_width": null,
            "border": null,
            "margin": null,
            "order": null,
            "grid_column": null,
            "grid_auto_rows": null,
            "padding": null,
            "grid_template_columns": null,
            "justify_items": null,
            "object_fit": null,
            "visibility": null,
            "_view_count": null,
            "flex_flow": null,
            "min_height": null,
            "top": null,
            "min_width": null,
            "flex": null,
            "_model_module_version": "1.2.0",
            "grid_template_areas": null,
            "overflow_x": null,
            "right": null,
            "overflow_y": null,
            "grid_gap": null,
            "align_content": null
          }
        },
        "6f6a108714a245609c10a43201954110": {
          "model_module": "@jupyter-widgets/controls",
          "model_name": "HBoxModel",
          "model_module_version": "1.5.0",
          "state": {
            "_view_module_version": "1.5.0",
            "_model_name": "HBoxModel",
            "_model_module": "@jupyter-widgets/controls",
            "_view_name": "HBoxView",
            "_view_module": "@jupyter-widgets/controls",
            "_dom_classes": [],
            "layout": "IPY_MODEL_ba1ee2e0c9124bb5ac72feea4cd12ab3",
            "_view_count": null,
            "_model_module_version": "1.5.0",
            "box_style": "",
            "children": [
              "IPY_MODEL_7ae0f60155fc40a68af3a3e19628d0df",
              "IPY_MODEL_8a2d5aea6f704afaaa23c53a5f4199b7",
              "IPY_MODEL_f01ffd82655044869c79671f3a20ed3c"
            ]
          }
        },
        "056c6c56c7bf4d06a7c58e7d5b236138": {
          "model_module": "@jupyter-widgets/controls",
          "model_name": "HTMLModel",
          "model_module_version": "1.5.0",
          "state": {
            "_view_module_version": "1.5.0",
            "description_tooltip": null,
            "_model_name": "HTMLModel",
            "_model_module": "@jupyter-widgets/controls",
            "_view_name": "HTMLView",
            "_view_module": "@jupyter-widgets/controls",
            "_dom_classes": [],
            "layout": "IPY_MODEL_443f8b27251a4c4eb0af365a6041b52f",
            "value": " 35/423 [00:11&lt;01:05,  5.92it/s]",
            "style": "IPY_MODEL_98c0172fd62b483384f9fa43ffacbb4f",
            "placeholder": "​",
            "_view_count": null,
            "_model_module_version": "1.5.0",
            "description": ""
          }
        },
        "35057d9c4c0c426fba2519c25004a659": {
          "model_module": "@jupyter-widgets/base",
          "model_name": "LayoutModel",
          "model_module_version": "1.2.0",
          "state": {
            "_view_module_version": "1.2.0",
            "_model_name": "LayoutModel",
            "grid_row": null,
            "_model_module": "@jupyter-widgets/base",
            "overflow": null,
            "max_height": null,
            "display": null,
            "grid_auto_flow": null,
            "grid_template_rows": null,
            "align_self": null,
            "grid_auto_columns": null,
            "width": null,
            "grid_area": null,
            "align_items": null,
            "_view_name": "LayoutView",
            "left": null,
            "height": null,
            "_view_module": "@jupyter-widgets/base",
            "object_position": null,
            "justify_content": null,
            "bottom": null,
            "max_width": null,
            "border": null,
            "margin": null,
            "order": null,
            "grid_column": null,
            "grid_auto_rows": null,
            "padding": null,
            "grid_template_columns": null,
            "justify_items": null,
            "object_fit": null,
            "visibility": null,
            "_view_count": null,
            "flex_flow": null,
            "min_height": null,
            "top": null,
            "min_width": null,
            "flex": null,
            "_model_module_version": "1.2.0",
            "grid_template_areas": null,
            "overflow_x": null,
            "right": null,
            "overflow_y": null,
            "grid_gap": null,
            "align_content": null
          }
        },
        "0f1a264fe5dc46a0b909c7c15878e34c": {
          "model_module": "@jupyter-widgets/controls",
          "model_name": "HTMLModel",
          "model_module_version": "1.5.0",
          "state": {
            "_view_module_version": "1.5.0",
            "description_tooltip": null,
            "_model_name": "HTMLModel",
            "_model_module": "@jupyter-widgets/controls",
            "_view_name": "HTMLView",
            "_view_module": "@jupyter-widgets/controls",
            "_dom_classes": [],
            "layout": "IPY_MODEL_04ecdb620fb54675ac418ddf6063a9c7",
            "value": "  8%",
            "style": "IPY_MODEL_ff79682fa85644a4979e9feb482cf200",
            "placeholder": "​",
            "_view_count": null,
            "_model_module_version": "1.5.0",
            "description": ""
          }
        },
        "4a59247376e241369f346d0fb0e6ef4f": {
          "model_module": "@jupyter-widgets/base",
          "model_name": "LayoutModel",
          "model_module_version": "1.2.0",
          "state": {
            "_view_module_version": "1.2.0",
            "_model_name": "LayoutModel",
            "grid_row": null,
            "_model_module": "@jupyter-widgets/base",
            "overflow": null,
            "max_height": null,
            "display": null,
            "grid_auto_flow": null,
            "grid_template_rows": null,
            "align_self": null,
            "grid_auto_columns": null,
            "width": null,
            "grid_area": null,
            "align_items": null,
            "_view_name": "LayoutView",
            "left": null,
            "height": null,
            "_view_module": "@jupyter-widgets/base",
            "object_position": null,
            "justify_content": null,
            "bottom": null,
            "max_width": null,
            "border": null,
            "margin": null,
            "order": null,
            "grid_column": null,
            "grid_auto_rows": null,
            "padding": null,
            "grid_template_columns": null,
            "justify_items": null,
            "object_fit": null,
            "visibility": null,
            "_view_count": null,
            "flex_flow": null,
            "min_height": null,
            "top": null,
            "min_width": null,
            "flex": null,
            "_model_module_version": "1.2.0",
            "grid_template_areas": null,
            "overflow_x": null,
            "right": null,
            "overflow_y": null,
            "grid_gap": null,
            "align_content": null
          }
        }
      }
    },
    "language_info": {
      "name": "python",
      "version": "3.6.9",
      "mimetype": "text/x-python",
      "codemirror_mode": {
        "name": "ipython",
        "version": 3
      },
      "pygments_lexer": "ipython3",
      "nbconvert_exporter": "python",
      "file_extension": ".py"
    },
    "nteract": {
      "version": "nteract-front-end@1.0.0"
    },
    "kernel_info": {
      "name": "python3"
    },
    "microsoft": {
      "host": {
        "AzureML": {
          "notebookHasBeenCompleted": true
        }
      }
    }
  },
  "nbformat": 4,
  "nbformat_minor": 0
}